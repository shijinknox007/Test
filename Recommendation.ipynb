{
  "nbformat": 4,
  "nbformat_minor": 0,
  "metadata": {
    "colab": {
      "name": "Recommendation.ipynb",
      "provenance": [],
      "authorship_tag": "ABX9TyNwoPotGI+00wEVyMbXAAUn",
      "include_colab_link": true
    },
    "kernelspec": {
      "name": "python3",
      "display_name": "Python 3"
    },
    "language_info": {
      "name": "python"
    }
  },
  "cells": [
    {
      "cell_type": "markdown",
      "metadata": {
        "id": "view-in-github",
        "colab_type": "text"
      },
      "source": [
        "<a href=\"https://colab.research.google.com/github/shijinknox007/Test/blob/main/Recommendation.ipynb\" target=\"_parent\"><img src=\"https://colab.research.google.com/assets/colab-badge.svg\" alt=\"Open In Colab\"/></a>"
      ]
    },
    {
      "cell_type": "markdown",
      "metadata": {
        "id": "tL5SM32sF7Yj"
      },
      "source": [
        "$\\begin{array}{|ll|l|r|r|r|r|r|r|}\n",
        "\\hline\n",
        "{}&{}&F1&0.5&0.3&1&0.5&0&1\\\\\n",
        "{}&{}&F2&0.7&0.9&0&0.9&1&0\\\\\n",
        "\\hline\n",
        "F1&F2&{} &    M1 &    M2 &   M3 &    M4 &   M5 &   M6 \\\\\n",
        "\\hline\n",
        "0.9&0.2&U1 &  &   &   &   &  &   \\\\\\hline\n",
        "0.4&0.9&U2 &   &   &   &   &   &   \\\\\\hline\n",
        "0.5&0.3&U3 &   &   &   &   &   &  \\\\\\hline\n",
        "0.2&0.7&U4 &   &   &   &   &   &   \\\\\n",
        "\\hline\n",
        "\\end{array}$"
      ]
    },
    {
      "cell_type": "code",
      "metadata": {
        "id": "QhiohirVGMqP"
      },
      "source": [
        "import numpy as np\n",
        "import numpy.linalg as la"
      ],
      "execution_count": 1,
      "outputs": []
    },
    {
      "cell_type": "code",
      "metadata": {
        "colab": {
          "base_uri": "https://localhost:8080/"
        },
        "id": "0L2CfpRhGqXx",
        "outputId": "038352b7-c4b5-4172-acfb-942497871568"
      },
      "source": [
        "MF=np.array([[0.5,0.7],[0.3,0.9],[1,0],[0.5,0.9],[0,1],[1,0]])\n",
        "UT=np.array([[0.9,0.2],[0.4,0.9],[0.5,0.3],[0.2,0.7]])\n",
        "DP=np.dot(UT,MF.T)\n",
        "print(DP)"
      ],
      "execution_count": 3,
      "outputs": [
        {
          "output_type": "stream",
          "text": [
            "[[0.59 0.45 0.9  0.63 0.2  0.9 ]\n",
            " [0.83 0.93 0.4  1.01 0.9  0.4 ]\n",
            " [0.46 0.42 0.5  0.52 0.3  0.5 ]\n",
            " [0.59 0.69 0.2  0.73 0.7  0.2 ]]\n"
          ],
          "name": "stdout"
        }
      ]
    },
    {
      "cell_type": "markdown",
      "metadata": {
        "id": "lmNXhMbQIDLH"
      },
      "source": [
        "$\\begin{array}{|ll|l|r|r|r|r|r|r|}\n",
        "\\hline\n",
        "{}&{}&F1&0.5&0.3&1&0.5&0&1\\\\\n",
        "{}&{}&F2&0.7&0.9&0&0.9&1&0\\\\\n",
        "\\hline\n",
        "F1&F2&{} &    M1 &    M2 &   M3 &    M4 &   M5 &   M6 \\\\\n",
        "\\hline\n",
        "0.9&0.2&U1 &  0.59 &  0.45 &  0.9 &  0.63 &  0.2 &  0.9 \\\\\\hline\n",
        "0.4&0.9&U2 &  0.83 &  0.93 &  0.4 &  1.01 &  0.9 &  0.4 \\\\\\hline\n",
        "0.5&0.3&U3 &  0.46 &  0.42 &  0.5 &  0.52 &  0.3 &  0.5 \\\\\\hline\n",
        "0.2&0.7&U4 &  0.59 &  0.69 &  0.2 &  0.73 &  0.7 &  0.2 \\\\\n",
        "\\hline\n",
        "\\end{array}$"
      ]
    },
    {
      "cell_type": "code",
      "metadata": {
        "colab": {
          "base_uri": "https://localhost:8080/"
        },
        "id": "Z1ddV6vPHw2t",
        "outputId": "82e2b8be-6cda-491a-aba4-ef20f5699de1"
      },
      "source": [
        "import pandas as pd\n",
        "DP1=pd.DataFrame(DP,columns=[\"M1\",\"M2\",\"M3\",\"M4\",\"M5\",\"M6\"],index=[\"U1\",\"U2\",\"U3\",\"U4\"])\n",
        "print(DP1.to_latex())"
      ],
      "execution_count": 7,
      "outputs": [
        {
          "output_type": "stream",
          "text": [
            "\\begin{tabular}{lrrrrrr}\n",
            "\\toprule\n",
            "{} &    M1 &    M2 &   M3 &    M4 &   M5 &   M6 \\\\\n",
            "\\midrule\n",
            "U1 &  0.59 &  0.45 &  0.9 &  0.63 &  0.2 &  0.9 \\\\\n",
            "U2 &  0.83 &  0.93 &  0.4 &  1.01 &  0.9 &  0.4 \\\\\n",
            "U3 &  0.46 &  0.42 &  0.5 &  0.52 &  0.3 &  0.5 \\\\\n",
            "U4 &  0.59 &  0.69 &  0.2 &  0.73 &  0.7 &  0.2 \\\\\n",
            "\\bottomrule\n",
            "\\end{tabular}\n",
            "\n"
          ],
          "name": "stdout"
        }
      ]
    },
    {
      "cell_type": "markdown",
      "metadata": {
        "id": "ieSIGu8PISrK"
      },
      "source": [
        "\\begin{array}{|l|rrrrrr|}\n",
        "\\hline\n",
        "{} &    M1 &    M2 &   M3 &    M4 &   M5 &   M6 \\\\\n",
        "\\hline\n",
        "U1 &  0.59 &  0.45 &  0.9 &  0.63 &  0.2 &  0.9 \\\\\n",
        "U2 &  0.83 &  0.93 &  0.4 &  1.01 &  0.9 &  0.4 \\\\\n",
        "U3 &  0.46 &  0.42 &  0.5 &  0.52 &  0.3 &  0.5 \\\\\n",
        "U4 &  0.59 &  0.69 &  0.2 &  0.73 &  0.7 &  0.2 \\\\\n",
        "\\hline\n",
        "\\end{array}"
      ]
    },
    {
      "cell_type": "markdown",
      "metadata": {
        "id": "m7F_dRS5JRKB"
      },
      "source": [
        "$\\begin{array}{lrrrrr}\n",
        "\\hline\n",
        "{} &    M1 &    M2 &   M3 &    M4 &   M5  \\\\\n",
        "\\hline\n",
        "Alice &  5 &  4 &  1 & 4 & ?  \\\\\n",
        "N1 &  3 &  1 &  2 &  3 &  3  \\\\\n",
        "N2 &  4 &  3 &  4&  3 &  5  \\\\\n",
        "N3 &  3 &  3 &  1 &  5 &  4  \\\\\n",
        "\\hline\n",
        "\\end{array}$\n",
        "\n",
        "Try to predict the rating score for $M5$ by Alice"
      ]
    },
    {
      "cell_type": "code",
      "metadata": {
        "id": "tzN1uTP2JwX3"
      },
      "source": [
        "Alice=np.array([5, 4, 1, 4])\n",
        "N1=np.array([3,1,2,3])\n",
        "N2=np.array([4,3,4,3])\n",
        "N3=np.array([3,3,1,5])"
      ],
      "execution_count": 8,
      "outputs": []
    },
    {
      "cell_type": "markdown",
      "metadata": {
        "id": "js6qDpuRJ5P-"
      },
      "source": [
        "## Calulating The Pearson similarity\n",
        "\n",
        "$Sim(U,V)=\\dfrac{\\sum (r_{ui}-\\bar{r_u})(r_{vi}-\\bar{r_v})}{\\sqrt{\\sum (r_{ui}-\\bar{r_u})^2}\\sqrt{\\sum (r_{vi}-\\bar{r_v})^2}}$"
      ]
    },
    {
      "cell_type": "code",
      "metadata": {
        "id": "nORmpE8aKX76"
      },
      "source": [
        "mean_rating_Alice=np.mean(Alice)\n",
        "User_means=np.array([np.mean(N1),np.mean(N2),np.mean(N3)])\n",
        "Alice=Alice-np.mean(Alice)\n",
        "N1=N1-np.mean(N1)\n",
        "N2=N2-np.mean(N2)\n",
        "N3=N3-np.mean(N3)"
      ],
      "execution_count": 9,
      "outputs": []
    },
    {
      "cell_type": "code",
      "metadata": {
        "colab": {
          "base_uri": "https://localhost:8080/"
        },
        "id": "-0r1-xcwKxfk",
        "outputId": "6a48d541-00d1-435a-df90-8a67c3977d05"
      },
      "source": [
        "simA_N1=(np.dot(Alice,N1))/((la.norm(Alice))*la.norm(N1))\n",
        "print(simA_N1)"
      ],
      "execution_count": 12,
      "outputs": [
        {
          "output_type": "stream",
          "text": [
            "0.30151134457776363\n"
          ],
          "name": "stdout"
        }
      ]
    },
    {
      "cell_type": "code",
      "metadata": {
        "colab": {
          "base_uri": "https://localhost:8080/"
        },
        "id": "U-vDgF0jLAmL",
        "outputId": "dd8a65f0-4176-4686-d235-823753fb23b2"
      },
      "source": [
        "simA_N2=(np.dot(Alice,N2))/((la.norm(Alice))*la.norm(N2))\n",
        "print(simA_N2)"
      ],
      "execution_count": 13,
      "outputs": [
        {
          "output_type": "stream",
          "text": [
            "-0.3333333333333333\n"
          ],
          "name": "stdout"
        }
      ]
    },
    {
      "cell_type": "code",
      "metadata": {
        "colab": {
          "base_uri": "https://localhost:8080/"
        },
        "id": "XnHW1gwKLIzC",
        "outputId": "a4fa3b45-e19e-4295-8de5-9565a21bf1e9"
      },
      "source": [
        "simA_N3=(np.dot(Alice,N3))/((la.norm(Alice))*la.norm(N3))\n",
        "print(simA_N3)"
      ],
      "execution_count": 14,
      "outputs": [
        {
          "output_type": "stream",
          "text": [
            "0.7071067811865475\n"
          ],
          "name": "stdout"
        }
      ]
    },
    {
      "cell_type": "markdown",
      "metadata": {
        "id": "gVe-sQbVLbBI"
      },
      "source": [
        "## Calculation of Rating for $M5$ by Alice.\n",
        "\n",
        "\\begin{equation*}\n",
        "        P(Alice,M5)=\\bar{r}{Alice}+\\dfrac{\\sum\\limits{i}sim(Alice,N_i)\\left(r(N_i,M5)-\\bar{r}{N_i}\\right)}{\\sum\\limits{i}|sim(Alice,N_i)|}\n",
        "    \\end{equation*}"
      ]
    },
    {
      "cell_type": "code",
      "metadata": {
        "colab": {
          "base_uri": "https://localhost:8080/"
        },
        "id": "ZUvPbqT5LjnX",
        "outputId": "cc4a797e-6141-45f3-a27f-ba90ae76d0e0"
      },
      "source": [
        "RM5=np.array([3,5,4])\n",
        "simarray=np.array([simA_N1,simA_N2,simA_N3])\n",
        "meandiff=RM5-User_means\n",
        "RUserF=np.dot(simarray,meandiff)/np.sum(abs(simarray))\n",
        "print (RUserF)"
      ],
      "execution_count": 16,
      "outputs": [
        {
          "output_type": "stream",
          "text": [
            "0.3228434878793528\n"
          ],
          "name": "stdout"
        }
      ]
    },
    {
      "cell_type": "code",
      "metadata": {
        "colab": {
          "base_uri": "https://localhost:8080/"
        },
        "id": "zy8ygvPaL2tC",
        "outputId": "aaf42721-5b84-4633-aa32-9a1b8ada575d"
      },
      "source": [
        "r_alice_M5=mean_rating_Alice+RUserF\n",
        "print('Rating for Movie 5 by Alice is:',r_alice_M5)"
      ],
      "execution_count": 17,
      "outputs": [
        {
          "output_type": "stream",
          "text": [
            "Rating for Movie 5 by Alice is: 3.8228434878793527\n"
          ],
          "name": "stdout"
        }
      ]
    }
  ]
}