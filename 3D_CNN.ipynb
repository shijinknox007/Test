{
  "nbformat": 4,
  "nbformat_minor": 0,
  "metadata": {
    "colab": {
      "name": "3D_CNN.ipynb",
      "provenance": [],
      "include_colab_link": true
    },
    "kernelspec": {
      "name": "python3",
      "display_name": "Python 3"
    },
    "language_info": {
      "name": "python"
    }
  },
  "cells": [
    {
      "cell_type": "markdown",
      "metadata": {
        "id": "view-in-github",
        "colab_type": "text"
      },
      "source": [
        "<a href=\"https://colab.research.google.com/github/shijinknox007/Test/blob/main/3D_CNN.ipynb\" target=\"_parent\"><img src=\"https://colab.research.google.com/assets/colab-badge.svg\" alt=\"Open In Colab\"/></a>"
      ]
    },
    {
      "cell_type": "code",
      "metadata": {
        "id": "bfYVTcrGMhnc"
      },
      "source": [
        "import os\n",
        "import keras.utils\n",
        "import os\n",
        "\n",
        "import keras\n",
        "from keras.models import Sequential\n",
        "from keras.layers import Dense, Flatten, Conv3D, MaxPooling3D, Dropout, BatchNormalization\n",
        "from tensorflow.keras.utils import to_categorical\n",
        "import numpy as np\n",
        "import matplotlib.pyplot as plt\n",
        "import h5py"
      ],
      "execution_count": null,
      "outputs": []
    },
    {
      "cell_type": "code",
      "metadata": {
        "id": "7ZF6E6jtIFYi"
      },
      "source": [
        "def array_to_color(array, cmap=\"Oranges\"):\n",
        "    s_m = plt.cm.ScalarMappable(cmap=cmap)\n",
        "    return s_m.to_rgba(array)[:,:-1]\n",
        "\n",
        "\n",
        "def rgb_data_transform(data):\n",
        "    data_t = []\n",
        "    for i in range(data.shape[0]):\n",
        "        data_t.append(array_to_color(data[i]).reshape(16, 16, 16, 3))\n",
        "    return np.asarray(data_t, dtype=np.float32)\n",
        "    "
      ],
      "execution_count": null,
      "outputs": []
    },
    {
      "cell_type": "code",
      "metadata": {
        "colab": {
          "base_uri": "https://localhost:8080/"
        },
        "id": "U-01HiO3NyVk",
        "outputId": "7836e8a7-3810-4f0f-d25b-fabc0a121f71"
      },
      "source": [
        "with h5py.File(\"/content/drive/MyDrive/Colab Notebooks/kaggle3D/full_dataset_vectors.h5\", \"r\") as hf:    \n",
        "\n",
        "    # Split the data into training/test features/targets\n",
        "    X_train = hf[\"X_train\"][:]\n",
        "    targets_train = hf[\"y_train\"][:]\n",
        "    X_test = hf[\"X_test\"][:] \n",
        "    targets_test = hf[\"y_test\"][:]\n",
        "\n",
        "    # Determine sample shape\n",
        "    sample_shape = (16, 16, 16, 3)\n",
        "\n",
        "    # Reshape data into 3D format\n",
        "    X_train = rgb_data_transform(X_train)\n",
        "    X_test = rgb_data_transform(X_test)\n",
        "\n",
        "    # Convert target vectors to categorical targets\n",
        "    targets_train = to_categorical(targets_train).astype(np.integer)\n",
        "    targets_test = to_categorical(targets_test).astype(np.integer)\n",
        "    "
      ],
      "execution_count": null,
      "outputs": [
        {
          "output_type": "stream",
          "text": [
            "/usr/local/lib/python3.7/dist-packages/ipykernel_launcher.py:17: DeprecationWarning: Converting `np.integer` or `np.signedinteger` to a dtype is deprecated. The current result is `np.dtype(np.int_)` which is not strictly correct. Note that the result depends on the system. To ensure stable results use may want to use `np.int64` or `np.int32`.\n",
            "/usr/local/lib/python3.7/dist-packages/ipykernel_launcher.py:18: DeprecationWarning: Converting `np.integer` or `np.signedinteger` to a dtype is deprecated. The current result is `np.dtype(np.int_)` which is not strictly correct. Note that the result depends on the system. To ensure stable results use may want to use `np.int64` or `np.int32`.\n"
          ],
          "name": "stderr"
        }
      ]
    },
    {
      "cell_type": "code",
      "metadata": {
        "colab": {
          "base_uri": "https://localhost:8080/"
        },
        "id": "LaDC-Y3mNfAQ",
        "outputId": "6ddf387c-6fb8-494f-90d0-bd39b145a60e"
      },
      "source": [
        "# Create the model\n",
        "model = Sequential()\n",
        "model.add(Conv3D(32, kernel_size=(3, 3, 3), activation='relu', kernel_initializer='he_uniform', input_shape=sample_shape))\n",
        "model.add(MaxPooling3D(pool_size=(2, 2, 2)))\n",
        "model.add(BatchNormalization(center=True, scale=True))\n",
        "model.add(Dropout(0.5))\n",
        "model.add(Conv3D(64, kernel_size=(3, 3, 3), activation='relu', kernel_initializer='he_uniform'))\n",
        "model.add(MaxPooling3D(pool_size=(2, 2, 2)))\n",
        "model.add(BatchNormalization(center=True, scale=True))\n",
        "model.add(Dropout(0.5))\n",
        "model.add(Flatten())\n",
        "model.add(Dense(256, activation='relu', kernel_initializer='he_uniform'))\n",
        "model.add(Dense(256, activation='relu', kernel_initializer='he_uniform'))\n",
        "model.add(Dense(10, activation='softmax'))\n",
        "\n",
        "# Compile the model\n",
        "model.compile(loss='categorical_crossentropy',\n",
        "              optimizer=keras.optimizers.Adam(lr=0.001),\n",
        "              metrics=['accuracy'])\n",
        "model.summary()\n",
        "# Fit data to model\n",
        "history = model.fit(X_train, targets_train,\n",
        "            batch_size=128,\n",
        "            epochs=2,\n",
        "            verbose=1,\n",
        "            validation_split=0.3)\n",
        "# Generate generalization metrics\n",
        "score = model.evaluate(X_test, targets_test, verbose=0)\n",
        "print(f'Test loss: {score[0]} / Test accuracy: {score[1]}')\n",
        "\n"
      ],
      "execution_count": null,
      "outputs": [
        {
          "output_type": "stream",
          "text": [
            "/usr/local/lib/python3.7/dist-packages/tensorflow/python/keras/optimizer_v2/optimizer_v2.py:375: UserWarning: The `lr` argument is deprecated, use `learning_rate` instead.\n",
            "  \"The `lr` argument is deprecated, use `learning_rate` instead.\")\n"
          ],
          "name": "stderr"
        },
        {
          "output_type": "stream",
          "text": [
            "Model: \"sequential_2\"\n",
            "_________________________________________________________________\n",
            "Layer (type)                 Output Shape              Param #   \n",
            "=================================================================\n",
            "conv3d_4 (Conv3D)            (None, 14, 14, 14, 32)    2624      \n",
            "_________________________________________________________________\n",
            "max_pooling3d_4 (MaxPooling3 (None, 7, 7, 7, 32)       0         \n",
            "_________________________________________________________________\n",
            "batch_normalization_4 (Batch (None, 7, 7, 7, 32)       128       \n",
            "_________________________________________________________________\n",
            "dropout_4 (Dropout)          (None, 7, 7, 7, 32)       0         \n",
            "_________________________________________________________________\n",
            "conv3d_5 (Conv3D)            (None, 5, 5, 5, 64)       55360     \n",
            "_________________________________________________________________\n",
            "max_pooling3d_5 (MaxPooling3 (None, 2, 2, 2, 64)       0         \n",
            "_________________________________________________________________\n",
            "batch_normalization_5 (Batch (None, 2, 2, 2, 64)       256       \n",
            "_________________________________________________________________\n",
            "dropout_5 (Dropout)          (None, 2, 2, 2, 64)       0         \n",
            "_________________________________________________________________\n",
            "flatten_2 (Flatten)          (None, 512)               0         \n",
            "_________________________________________________________________\n",
            "dense_6 (Dense)              (None, 256)               131328    \n",
            "_________________________________________________________________\n",
            "dense_7 (Dense)              (None, 256)               65792     \n",
            "_________________________________________________________________\n",
            "dense_8 (Dense)              (None, 10)                2570      \n",
            "=================================================================\n",
            "Total params: 258,058\n",
            "Trainable params: 257,866\n",
            "Non-trainable params: 192\n",
            "_________________________________________________________________\n",
            "Epoch 1/2\n",
            "55/55 [==============================] - 100s 2s/step - loss: 2.6148 - accuracy: 0.1901 - val_loss: 3.6879 - val_accuracy: 0.1150\n",
            "Epoch 2/2\n",
            "55/55 [==============================] - 98s 2s/step - loss: 1.7654 - accuracy: 0.3937 - val_loss: 5.0282 - val_accuracy: 0.1557\n",
            "Test loss: 5.033117294311523 / Test accuracy: 0.16200000047683716\n"
          ],
          "name": "stdout"
        }
      ]
    }
  ]
}